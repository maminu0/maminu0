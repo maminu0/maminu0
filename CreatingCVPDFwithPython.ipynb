{
  "nbformat": 4,
  "nbformat_minor": 0,
  "metadata": {
    "colab": {
      "provenance": [],
      "authorship_tag": "ABX9TyNjUN6uK2HFYtEuHUqbR3Ix",
      "include_colab_link": true
    },
    "kernelspec": {
      "name": "python3",
      "display_name": "Python 3"
    },
    "language_info": {
      "name": "python"
    }
  },
  "cells": [
    {
      "cell_type": "markdown",
      "metadata": {
        "id": "view-in-github",
        "colab_type": "text"
      },
      "source": [
        "<a href=\"https://colab.research.google.com/github/maminu0/maminu0/blob/main/CreatingCVPDFwithPython.ipynb\" target=\"_parent\"><img src=\"https://colab.research.google.com/assets/colab-badge.svg\" alt=\"Open In Colab\"/></a>"
      ]
    },
    {
      "cell_type": "code",
      "source": [
        "!pip install fpdf\n",
        "from fpdf import FPDF"
      ],
      "metadata": {
        "colab": {
          "base_uri": "https://localhost:8080/"
        },
        "id": "nTNa6uLeF4pT",
        "outputId": "227b923b-22aa-495f-91c8-e5374825be7a"
      },
      "execution_count": 2,
      "outputs": [
        {
          "output_type": "stream",
          "name": "stdout",
          "text": [
            "Collecting fpdf\n",
            "  Downloading fpdf-1.7.2.tar.gz (39 kB)\n",
            "  Preparing metadata (setup.py) ... \u001b[?25l\u001b[?25hdone\n",
            "Building wheels for collected packages: fpdf\n",
            "  Building wheel for fpdf (setup.py) ... \u001b[?25l\u001b[?25hdone\n",
            "  Created wheel for fpdf: filename=fpdf-1.7.2-py2.py3-none-any.whl size=40704 sha256=5dc0b753812710266ec1704041a55fab465136d690bb3fe16b651f1a6b68ce40\n",
            "  Stored in directory: /root/.cache/pip/wheels/65/4f/66/bbda9866da446a72e206d6484cd97381cbc7859a7068541c36\n",
            "Successfully built fpdf\n",
            "Installing collected packages: fpdf\n",
            "Successfully installed fpdf-1.7.2\n"
          ]
        }
      ]
    },
    {
      "cell_type": "code",
      "execution_count": 3,
      "metadata": {
        "id": "1fk1m7GKF0CC"
      },
      "outputs": [],
      "source": [
        "#My resme\n",
        "# Define resume content\n",
        "resume_content = {\n",
        "    \"name\": \"MUHAMMED AMIN ABDULLAH\",\n",
        "    \"contact\": \"Athens, OH • (***) 270-5519 • drmaminu@gmail.com\\nLinkedIn: linkedin.com/in/muhammed-amin-abdullah-442b50142 • drmaminu.com\",\n",
        "    \"summary\": (\n",
        "        \"AI/ML Researcher and PhD Candidate with 4+ years of experience developing advanced deep learning models \"\n",
        "        \"for cybersecurity, malware detection, and data analytics. Specialized in computer vision, image modeling, \"\n",
        "        \"and generative AI using TensorFlow and PyTorch. Proven track record deploying real-time fraud detection systems, \"\n",
        "        \"automating risk processes, and integrating AI into financial platforms. Strong background in Python, statistical modeling, \"\n",
        "        \"and regulatory compliance. Eager to apply deep learning and image verification skills in FinTech environments.\"\n",
        "    ),\n",
        "    \"skills\": (\n",
        "        \"ML & AI Frameworks: TensorFlow, PyTorch, Keras, OpenCV, GANs\\n\"\n",
        "        \"Computer Vision: OCR, Image Segmentation, Signature Verification, Tampering Detection\\n\"\n",
        "        \"Languages: Python, R, C++, Java, SQL\\n\"\n",
        "        \"Tools: Docker, Git, PowerBI, JIRA, Excel\\n\"\n",
        "        \"Cloud & DB: AWS, MySQL, PostgreSQL, Apache Spark\\n\"\n",
        "        \"Others: Fraud Detection, Generative Models, Statistical Modeling, OCR Algorithms\"\n",
        "    ),\n",
        "    \"experience\": (\n",
        "        \"AI Researcher & Computer Vision Developer\\n\"\n",
        "        \"UESTC, China | Sep 2020 – Nov 2024\\n\"\n",
        "        \"- Built CNN and GAN-based image models for malware pattern detection and IoT anomaly classification.\\n\"\n",
        "        \"- Developed robust image verification techniques to detect adversarial tampering and forged digital signatures.\\n\"\n",
        "        \"- Optimized deep learning workflows using TensorFlow and PyTorch, improving inference speed by 20%.\\n\"\n",
        "        \"- Delivered seminars to 50+ peers on real-time model deployment and compliance-aware AI development.\\n\\n\"\n",
        "        \"Full-Stack Developer | Web Systems Security\\n\"\n",
        "        \"CKTUTAS, Ghana | May 2020 – Oct 2024\\n\"\n",
        "        \"- Led redesign of 20+ platforms with enhanced image-handling modules and fraud-resistant workflows.\\n\"\n",
        "        \"- Integrated back-end fraud detection algorithms into user portals, reducing incident rates by 50%.\\n\"\n",
        "        \"- Implemented secure, scalable architecture in AWS, improving reliability in payment transaction modules.\"\n",
        "    ),\n",
        "    \"education\": (\n",
        "        \"Ph.D. in Software Engineering (GPA: 3.84)\\n\"\n",
        "        \"UESTC, China | 2020 – 2025\\n\"\n",
        "        \"Focus: Network Security, Data Mining, Computer Vision, AI, Blockchain\\n\\n\"\n",
        "        \"M.Sc. in Software Engineering (GPA: 3.84)\\n\"\n",
        "        \"UESTC, China | 2018 – 2020\\n\"\n",
        "        \"Thesis: Deep Learning for IoT Malware Detection\\n\\n\"\n",
        "        \"B.Sc. in Computer Science & Accounting (GPA: 4.10)\\n\"\n",
        "        \"University for Development Studies, Ghana | 2013 – 2017\"\n",
        "    ),\n",
        "    \"certifications\": (\n",
        "        \"- TensorFlow Developer Specialization – Coursera\\n\"\n",
        "        \"- NLP in TensorFlow, GANs & Sequence Models – Coursera\\n\"\n",
        "        \"- Programming with JavaScript, HTML, CSS – Coursera\"\n",
        "    )\n",
        "}\n",
        "\n"
      ]
    },
    {
      "cell_type": "code",
      "source": [
        "import re\n",
        "from google.colab import drive\n",
        "drive.mount('/content/drive')\n",
        "\n",
        "# Remove other Unicode characters like en-dash, em-dash and fancy quotes\n",
        "for key in resume_content:\n",
        "    resume_content[key] = re.sub(r\"[^\\x00-\\x7F]+\", \"-\", resume_content[key])\n",
        "\n",
        "# Generate PDF again with only ASCII-safe characters\n",
        "pdf = FPDF()\n",
        "pdf.set_auto_page_break(auto=True, margin=10)\n",
        "pdf.add_page()\n",
        "pdf.set_font(\"Arial\", 'B', 16)\n",
        "pdf.cell(0, 10, resume_content[\"name\"], ln=True)\n",
        "pdf.set_font(\"Arial\", '', 12)\n",
        "pdf.multi_cell(0, 8, resume_content[\"contact\"])\n",
        "\n",
        "pdf.set_font(\"Arial\", 'B', 14)\n",
        "pdf.cell(0, 10, \"Professional Summary\", ln=True)\n",
        "pdf.set_font(\"Arial\", '', 11)\n",
        "pdf.multi_cell(0, 7, resume_content[\"summary\"])\n",
        "\n",
        "pdf.set_font(\"Arial\", 'B', 14)\n",
        "pdf.cell(0, 10, \"Core Skills & Tools\", ln=True)\n",
        "pdf.set_font(\"Arial\", '', 11)\n",
        "pdf.multi_cell(0, 7, resume_content[\"skills\"])\n",
        "\n",
        "pdf.set_font(\"Arial\", 'B', 14)\n",
        "pdf.cell(0, 10, \"Relevant Experience\", ln=True)\n",
        "pdf.set_font(\"Arial\", '', 11)\n",
        "pdf.multi_cell(0, 7, resume_content[\"experience\"])\n",
        "\n",
        "pdf.set_font(\"Arial\", 'B', 14)\n",
        "pdf.cell(0, 10, \"Education\", ln=True)\n",
        "pdf.set_font(\"Arial\", '', 11)\n",
        "pdf.multi_cell(0, 7, resume_content[\"education\"])\n",
        "\n",
        "pdf.set_font(\"Arial\", 'B', 14)\n",
        "pdf.cell(0, 10, \"Certifications\", ln=True)\n",
        "pdf.set_font(\"Arial\", '', 11)\n",
        "pdf.multi_cell(0, 7, resume_content[\"certifications\"])\n",
        "\n",
        "# # Save ASCII-safe PDF\n",
        "# output_path = \"/content/drive/Muhammed_Amin_Resume_Ingo.pdf\"\n",
        "# pdf.output(output_path)\n",
        "# output_path\n",
        "\n",
        "\n",
        "pdf.output('Muhammed_Amin_Resume_Ingo.pdf', 'F')\n",
        "# Then, move/copy it to your Google Drive\n",
        "!cp Muhammed_Amin_Resume_Ingo.pdf /content/drive/MyDrive/\n",
        "# Or use mv to move it instead of copying:\n",
        "#!mv Muhammed_Amin_Resume_Ingo.pdf /content/drive/MyDrive/\n",
        "\n",
        "# Display output path for confirmation (optional)\n",
        "print(\"PDF saved to: /content/drive/MyDrive/Muhammed_Amin_Resume_Ingo.pdf\")"
      ],
      "metadata": {
        "colab": {
          "base_uri": "https://localhost:8080/"
        },
        "id": "j1VYixskGHBZ",
        "outputId": "0c394f73-5169-4e10-fb2a-af70a50a0ee2"
      },
      "execution_count": 9,
      "outputs": [
        {
          "output_type": "stream",
          "name": "stdout",
          "text": [
            "Drive already mounted at /content/drive; to attempt to forcibly remount, call drive.mount(\"/content/drive\", force_remount=True).\n",
            "PDF saved to: /content/drive/MyDrive/Muhammed_Amin_Resume_Ingo.pdf\n"
          ]
        }
      ]
    },
    {
      "cell_type": "code",
      "source": [
        "# prompt: connect to my drive\n",
        "\n",
        "from google.colab import drive\n",
        "drive.mount('/content/drive')\n"
      ],
      "metadata": {
        "colab": {
          "base_uri": "https://localhost:8080/"
        },
        "id": "ftbm6AmLG119",
        "outputId": "d7f75241-7428-4cac-bf88-a89147929925"
      },
      "execution_count": 6,
      "outputs": [
        {
          "output_type": "stream",
          "name": "stdout",
          "text": [
            "Mounted at /content/drive\n"
          ]
        }
      ]
    },
    {
      "cell_type": "code",
      "source": [
        "#list all files in my drive\n",
        "#!ls /content/drive/MyDrive\n"
      ],
      "metadata": {
        "id": "nJZy5EUuH8fn"
      },
      "execution_count": 12,
      "outputs": []
    }
  ]
}