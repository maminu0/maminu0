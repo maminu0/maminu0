import re
import requests
from collections import defaultdict
def print_secret_message_request(url, return_string=False):
    
    export_url = url #f"https://docs.google.com/document/d/{doc_id}/export?format=txt"  
    response = requests.get(export_url)
    response.raise_for_status()
    content = response.text.strip()

    if not content:
        raise ValueError("The document is empty.")

    lines = content.splitlines()

    # Handle potential header
    header_skipped = False
    coords = []
    max_x, max_y = 0, 0

    for line in lines:
        line = line.strip()
        if not line:
            continue
        # Skip header if it's non-numeric
        if not header_skipped and not line[0].isdigit():
            header_skipped = True
            continue

        parts = [p.strip() for p in line.split(',')]
        if len(parts) < 3:
            continue  # Malformed line
        try:
            x, y = int(parts[0]), int(parts[1])
            char = parts[2]
            coords.append((x, y, char))
            max_x = max(max_x, x)
            max_y = max(max_y, y)
        except ValueError:
            continue  # Malformed numeric values

    # Initialize grid with spaces
    grid = [[' ' for _ in range(max_x + 1)] for _ in range(max_y + 1)]

    for x, y, char in coords:
        grid[y][x] = char

    # Join into lines
    message_lines = [''.join(row) for row in grid]
    final_message = '\n'.join(message_lines)

    print(final_message)
    if return_string:
        return final_message


##Using request isn't giving us the results we want. Let's use beautifulsoup
#!pip install beautifulsoup4
import requests
from bs4 import BeautifulSoup

def get_secret_message_beau(url):
    # Step 1: Retrieve the document content
    response = requests.get(url)
    response.raise_for_status()
    soup = BeautifulSoup(response.text, 'html.parser')
    
    # Step 2: Find and parse the table
    table = soup.find('table')
    if not table:
        raise ValueError("No table found in the document.")
    
    entries = []
    for row in table.find_all('tr')[1:]:  # Skip header row
        cells = row.find_all(['td'])  # Include both td and th for robustness
        if len(cells) < 3:
            continue
        
        x = int(cells[0].get_text(strip=True))
        char = cells[1].get_text(strip=True)
        y = int(cells[2].get_text(strip=True))
        entries.append((x,char,  y))
    
    # Step 3: Build the grid
    if not entries:
        print("")
        return
    
    max_x = max(entry[0] for entry in entries)
    max_y = max(entry[2] for entry in entries)
    grid = [[' ' for _ in range(max_x + 1)] for _ in range(max_y + 1)]
    
    for  x, char, y in entries:
        grid[y][x] = char
    
    # Step 4: Print the grid
    for row in reversed(grid):
        print(''.join(row))
url2="https://docs.google.com/document/d/e/2PACX-1vQGUck9HIFCyezsrBSnmENk5ieJuYwpt7YHYEzeNJkIb9OSDdx-ov2nRNReKQyey-cwJOoEKUhLmN9z/pub"
export_url = "https://docs.google.com/document/d/e/2PACX-1vRMx5YQlZNa3ra8dYYxmv-QIQ3YJe8tbI3kqcuC7lQiZm-CSEznKfN_HYNSpoXcZIV3Y_O3YoUB1ecq/pub" 
get_secret_message(export_url )  

get_secret_message(url2 )  




